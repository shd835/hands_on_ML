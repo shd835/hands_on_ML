{
 "cells": [
  {
   "cell_type": "code",
   "execution_count": 4,
   "metadata": {},
   "outputs": [],
   "source": [
    "import pandas as pd\n",
    "import numpy as np \n",
    "import random\n",
    "import matplotlib.pyplot as plt\n",
    "%matplotlib inline"
   ]
  },
  {
   "cell_type": "code",
   "execution_count": 5,
   "metadata": {},
   "outputs": [
    {
     "data": {
      "text/html": [
       "<div>\n",
       "<style scoped>\n",
       "    .dataframe tbody tr th:only-of-type {\n",
       "        vertical-align: middle;\n",
       "    }\n",
       "\n",
       "    .dataframe tbody tr th {\n",
       "        vertical-align: top;\n",
       "    }\n",
       "\n",
       "    .dataframe thead th {\n",
       "        text-align: right;\n",
       "    }\n",
       "</style>\n",
       "<table border=\"1\" class=\"dataframe\">\n",
       "  <thead>\n",
       "    <tr style=\"text-align: right;\">\n",
       "      <th></th>\n",
       "      <th>a</th>\n",
       "      <th>b</th>\n",
       "      <th>c</th>\n",
       "      <th>d</th>\n",
       "      <th>e</th>\n",
       "      <th>f</th>\n",
       "      <th>letters</th>\n",
       "      <th>identifier</th>\n",
       "    </tr>\n",
       "  </thead>\n",
       "  <tbody>\n",
       "    <tr>\n",
       "      <th>0</th>\n",
       "      <td>0.208739</td>\n",
       "      <td>0.322224</td>\n",
       "      <td>0.519729</td>\n",
       "      <td>0.400470</td>\n",
       "      <td>0.374868</td>\n",
       "      <td>3</td>\n",
       "      <td>z</td>\n",
       "      <td>702</td>\n",
       "    </tr>\n",
       "    <tr>\n",
       "      <th>1</th>\n",
       "      <td>0.770133</td>\n",
       "      <td>0.134751</td>\n",
       "      <td>0.237837</td>\n",
       "      <td>0.096074</td>\n",
       "      <td>0.459665</td>\n",
       "      <td>1</td>\n",
       "      <td>M</td>\n",
       "      <td>374</td>\n",
       "    </tr>\n",
       "    <tr>\n",
       "      <th>2</th>\n",
       "      <td>0.783658</td>\n",
       "      <td>0.275233</td>\n",
       "      <td>0.955751</td>\n",
       "      <td>0.592363</td>\n",
       "      <td>0.718176</td>\n",
       "      <td>6</td>\n",
       "      <td>c</td>\n",
       "      <td>781</td>\n",
       "    </tr>\n",
       "    <tr>\n",
       "      <th>3</th>\n",
       "      <td>0.612413</td>\n",
       "      <td>0.737470</td>\n",
       "      <td>0.856309</td>\n",
       "      <td>0.622928</td>\n",
       "      <td>0.129745</td>\n",
       "      <td>0</td>\n",
       "      <td>O</td>\n",
       "      <td>38</td>\n",
       "    </tr>\n",
       "    <tr>\n",
       "      <th>4</th>\n",
       "      <td>0.415667</td>\n",
       "      <td>0.505985</td>\n",
       "      <td>0.838937</td>\n",
       "      <td>0.407456</td>\n",
       "      <td>0.980551</td>\n",
       "      <td>2</td>\n",
       "      <td>H</td>\n",
       "      <td>781</td>\n",
       "    </tr>\n",
       "    <tr>\n",
       "      <th>...</th>\n",
       "      <td>...</td>\n",
       "      <td>...</td>\n",
       "      <td>...</td>\n",
       "      <td>...</td>\n",
       "      <td>...</td>\n",
       "      <td>...</td>\n",
       "      <td>...</td>\n",
       "      <td>...</td>\n",
       "    </tr>\n",
       "    <tr>\n",
       "      <th>95</th>\n",
       "      <td>0.898105</td>\n",
       "      <td>0.848171</td>\n",
       "      <td>0.692300</td>\n",
       "      <td>0.301222</td>\n",
       "      <td>0.365202</td>\n",
       "      <td>6</td>\n",
       "      <td>d</td>\n",
       "      <td>647</td>\n",
       "    </tr>\n",
       "    <tr>\n",
       "      <th>96</th>\n",
       "      <td>0.925738</td>\n",
       "      <td>0.737415</td>\n",
       "      <td>0.469987</td>\n",
       "      <td>0.413232</td>\n",
       "      <td>0.752828</td>\n",
       "      <td>1</td>\n",
       "      <td>H</td>\n",
       "      <td>605</td>\n",
       "    </tr>\n",
       "    <tr>\n",
       "      <th>97</th>\n",
       "      <td>0.233677</td>\n",
       "      <td>0.482353</td>\n",
       "      <td>0.965756</td>\n",
       "      <td>0.446814</td>\n",
       "      <td>0.863967</td>\n",
       "      <td>2</td>\n",
       "      <td>p</td>\n",
       "      <td>331</td>\n",
       "    </tr>\n",
       "    <tr>\n",
       "      <th>98</th>\n",
       "      <td>0.260023</td>\n",
       "      <td>0.950876</td>\n",
       "      <td>0.881456</td>\n",
       "      <td>0.163536</td>\n",
       "      <td>0.003396</td>\n",
       "      <td>0</td>\n",
       "      <td>d</td>\n",
       "      <td>828</td>\n",
       "    </tr>\n",
       "    <tr>\n",
       "      <th>99</th>\n",
       "      <td>0.026266</td>\n",
       "      <td>0.201667</td>\n",
       "      <td>0.812765</td>\n",
       "      <td>0.158584</td>\n",
       "      <td>0.539950</td>\n",
       "      <td>1</td>\n",
       "      <td>v</td>\n",
       "      <td>156</td>\n",
       "    </tr>\n",
       "  </tbody>\n",
       "</table>\n",
       "<p>100 rows × 8 columns</p>\n",
       "</div>"
      ],
      "text/plain": [
       "           a         b         c         d         e  f letters  identifier\n",
       "0   0.208739  0.322224  0.519729  0.400470  0.374868  3       z         702\n",
       "1   0.770133  0.134751  0.237837  0.096074  0.459665  1       M         374\n",
       "2   0.783658  0.275233  0.955751  0.592363  0.718176  6       c         781\n",
       "3   0.612413  0.737470  0.856309  0.622928  0.129745  0       O          38\n",
       "4   0.415667  0.505985  0.838937  0.407456  0.980551  2       H         781\n",
       "..       ...       ...       ...       ...       ... ..     ...         ...\n",
       "95  0.898105  0.848171  0.692300  0.301222  0.365202  6       d         647\n",
       "96  0.925738  0.737415  0.469987  0.413232  0.752828  1       H         605\n",
       "97  0.233677  0.482353  0.965756  0.446814  0.863967  2       p         331\n",
       "98  0.260023  0.950876  0.881456  0.163536  0.003396  0       d         828\n",
       "99  0.026266  0.201667  0.812765  0.158584  0.539950  1       v         156\n",
       "\n",
       "[100 rows x 8 columns]"
      ]
     },
     "execution_count": 5,
     "metadata": {},
     "output_type": "execute_result"
    }
   ],
   "source": [
    "# create a random dataframe\n",
    "import string\n",
    "letters = [random.choice(string.ascii_letters) for i in range(100) ] #string.ascii_letters returns \n",
    "# 'abcdefghijklmnopqrstuvwxyzABCDEFGHIJKLMNOPQRSTUVWXYZ'\n",
    "rand = pd.DataFrame(np.random.random((100,5)),columns = list(\"abcde\"))\n",
    "rand['f'] =np.random.randint(0,10,100)\n",
    "rand['letters'] = letters\n",
    "rand['identifier'] = np.random.randint(1,1000,100)\n",
    "\n",
    "rand"
   ]
  },
  {
   "cell_type": "code",
   "execution_count": 6,
   "metadata": {},
   "outputs": [
    {
     "name": "stdout",
     "output_type": "stream",
     "text": [
      "<class 'pandas.core.frame.DataFrame'>\n",
      "RangeIndex: 100 entries, 0 to 99\n",
      "Data columns (total 8 columns):\n",
      " #   Column      Non-Null Count  Dtype  \n",
      "---  ------      --------------  -----  \n",
      " 0   a           100 non-null    float64\n",
      " 1   b           100 non-null    float64\n",
      " 2   c           100 non-null    float64\n",
      " 3   d           100 non-null    float64\n",
      " 4   e           100 non-null    float64\n",
      " 5   f           100 non-null    int32  \n",
      " 6   letters     100 non-null    object \n",
      " 7   identifier  100 non-null    int32  \n",
      "dtypes: float64(5), int32(2), object(1)\n",
      "memory usage: 5.6+ KB\n"
     ]
    }
   ],
   "source": [
    "rand.info()"
   ]
  },
  {
   "cell_type": "code",
   "execution_count": 7,
   "metadata": {},
   "outputs": [
    {
     "data": {
      "text/plain": [
       "9    15\n",
       "2    14\n",
       "3    13\n",
       "1    13\n",
       "0    10\n",
       "7     9\n",
       "4     9\n",
       "5     8\n",
       "6     7\n",
       "8     2\n",
       "Name: f, dtype: int64"
      ]
     },
     "execution_count": 7,
     "metadata": {},
     "output_type": "execute_result"
    }
   ],
   "source": [
    "rand[\"f\"].value_counts()"
   ]
  },
  {
   "cell_type": "code",
   "execution_count": 8,
   "metadata": {},
   "outputs": [
    {
     "data": {
      "image/png": "[encoded data removed]",
      "text/plain": [
       "<Figure size 720x576 with 9 Axes>"
      ]
     },
     "metadata": {
      "needs_background": "light"
     },
     "output_type": "display_data"
    }
   ],
   "source": [
    "# the following automatically uses the numerical columns only\n",
    "rand.hist(figsize = (10,8));"
   ]
  },
  {
   "cell_type": "code",
   "execution_count": 9,
   "metadata": {},
   "outputs": [
    {
     "data": {
      "image/png": "[encoded data removed]",
      "text/plain": [
       "<Figure size 720x576 with 1 Axes>"
      ]
     },
     "metadata": {
      "needs_background": "light"
     },
     "output_type": "display_data"
    }
   ],
   "source": [
    "# histogram of a categorical column\n",
    "rand.letters.hist(figsize = (10,8));"
   ]
  },
  {
   "cell_type": "code",
   "execution_count": 10,
   "metadata": {},
   "outputs": [],
   "source": [
    "# Create a hash of identifier feature\n",
    "import hashlib\n",
    "\n",
    "def testset_check(identifier, test_ratio, hash):\n",
    "    return hash(np.int64(identifier)).digest()[-1] <256 * test_ratio\n",
    "\n",
    "# Create a function to use the identifier feature for spliting the dataset\n",
    "\n",
    "def split_train_test_by_id(data,id_col, test_ratio, hash):\n",
    "    ids = data[id_col]\n",
    "    in_testset = ids.apply(lambda id_:testset_check(id_,test_ratio,hash))\n",
    "    test_set = data.loc[in_testset]\n",
    "    train_set = data.loc[~in_testset]\n",
    "    return train_set, test_set\n"
   ]
  },
  {
   "cell_type": "code",
   "execution_count": 11,
   "metadata": {},
   "outputs": [
    {
     "data": {
      "text/plain": [
       "(           a         b         c         d         e  f letters  identifier\n",
       " 0   0.208739  0.322224  0.519729  0.400470  0.374868  3       z         702\n",
       " 1   0.770133  0.134751  0.237837  0.096074  0.459665  1       M         374\n",
       " 2   0.783658  0.275233  0.955751  0.592363  0.718176  6       c         781\n",
       " 3   0.612413  0.737470  0.856309  0.622928  0.129745  0       O          38\n",
       " 4   0.415667  0.505985  0.838937  0.407456  0.980551  2       H         781\n",
       " ..       ...       ...       ...       ...       ... ..     ...         ...\n",
       " 95  0.898105  0.848171  0.692300  0.301222  0.365202  6       d         647\n",
       " 96  0.925738  0.737415  0.469987  0.413232  0.752828  1       H         605\n",
       " 97  0.233677  0.482353  0.965756  0.446814  0.863967  2       p         331\n",
       " 98  0.260023  0.950876  0.881456  0.163536  0.003396  0       d         828\n",
       " 99  0.026266  0.201667  0.812765  0.158584  0.539950  1       v         156\n",
       " \n",
       " [79 rows x 8 columns],\n",
       "            a         b         c         d         e  f letters  identifier\n",
       " 6   0.097203  0.619209  0.073470  0.987331  0.399090  9       y         159\n",
       " 12  0.331269  0.195441  0.230879  0.401983  0.870572  6       m         763\n",
       " 13  0.220390  0.603988  0.302821  0.483820  0.582798  9       E         830\n",
       " 21  0.048527  0.796081  0.883125  0.322084  0.945459  8       E         132\n",
       " 27  0.172602  0.132864  0.135354  0.403889  0.170605  2       e         775\n",
       " 31  0.450433  0.038603  0.312876  0.174122  0.915276  9       V         921\n",
       " 33  0.351189  0.851389  0.486775  0.983140  0.468660  6       H         821\n",
       " 34  0.477745  0.060932  0.449080  0.489500  0.878464  3       B          90\n",
       " 40  0.396448  0.756857  0.945695  0.599972  0.979765  0       O         710\n",
       " 41  0.311249  0.067390  0.168841  0.098950  0.811758  1       N         570\n",
       " 44  0.356408  0.423426  0.716397  0.299935  0.858267  6       f         157\n",
       " 50  0.030507  0.544585  0.911564  0.384047  0.047397  4       Z         681\n",
       " 51  0.312467  0.397744  0.243869  0.158621  0.268911  2       F         914\n",
       " 57  0.077899  0.241986  0.077090  0.815441  0.844906  9       v         309\n",
       " 65  0.882392  0.378536  0.934821  0.027406  0.666816  7       q         849\n",
       " 70  0.219218  0.382566  0.703964  0.607352  0.366610  4       h         879\n",
       " 72  0.385378  0.114993  0.277208  0.674179  0.005808  9       v           6\n",
       " 82  0.166229  0.667250  0.690036  0.429643  0.175501  6       U         406\n",
       " 84  0.340746  0.124776  0.722560  0.608862  0.127248  9       W         910\n",
       " 86  0.875233  0.843573  0.350572  0.496492  0.952861  2       m         234\n",
       " 94  0.363442  0.198375  0.702990  0.800599  0.614614  5       A         121)"
      ]
     },
     "execution_count": 11,
     "metadata": {},
     "output_type": "execute_result"
    }
   ],
   "source": [
    "split_train_test_by_id(rand,\"identifier\",0.2,hashlib.sha256)"
   ]
  },
  {
   "cell_type": "code",
   "execution_count": 12,
   "metadata": {},
   "outputs": [
    {
     "name": "stdout",
     "output_type": "stream",
     "text": [
      "100 0\n"
     ]
    }
   ],
   "source": [
    "# Add\n",
    "rand[\"hash\"]= testset_check(rand[\"identifier\"],0.2,hashlib.sha256)\n",
    "print(len(rand[rand[\"hash\"] == False]), len(rand[rand[\"hash\"] == True]))"
   ]
  },
  {
   "cell_type": "code",
   "execution_count": 13,
   "metadata": {},
   "outputs": [
    {
     "data": {
      "text/plain": [
       "False"
      ]
     },
     "execution_count": 13,
     "metadata": {},
     "output_type": "execute_result"
    }
   ],
   "source": [
    "testset_check(rand[\"identifier\"],0.2,hashlib.sha256)"
   ]
  },
  {
   "cell_type": "code",
   "execution_count": 14,
   "metadata": {},
   "outputs": [
    {
     "data": {
      "text/plain": [
       "0     False\n",
       "1     False\n",
       "2     False\n",
       "3     False\n",
       "4     False\n",
       "      ...  \n",
       "95    False\n",
       "96    False\n",
       "97    False\n",
       "98    False\n",
       "99    False\n",
       "Name: hash, Length: 100, dtype: bool"
      ]
     },
     "execution_count": 14,
     "metadata": {},
     "output_type": "execute_result"
    }
   ],
   "source": [
    "rand[\"hash\"]"
   ]
  },
  {
   "cell_type": "code",
   "execution_count": 15,
   "metadata": {},
   "outputs": [],
   "source": [
    "#### The problem is that all the hashes are either True or False. SO, the whole point of splitting based \n",
    "# on hash is under question now"
   ]
  },
  {
   "cell_type": "markdown",
   "metadata": {},
   "source": [
    "### Question 12 page 143 \n",
    "Implement Batch Gradient Descent with early stopping for Softmax Regression\n",
    "(without using Scikit-Learn)"
   ]
  },
  {
   "cell_type": "code",
   "execution_count": null,
   "metadata": {},
   "outputs": [],
   "source": []
  },
  {
   "cell_type": "code",
   "execution_count": null,
   "metadata": {},
   "outputs": [],
   "source": [
    "y"
   ]
  },
  {
   "cell_type": "code",
   "execution_count": null,
   "metadata": {},
   "outputs": [],
   "source": []
  }
 ],
 "metadata": {
  "kernelspec": {
   "display_name": "Python 3",
   "language": "python",
   "name": "python3"
  },
  "language_info": {
   "codemirror_mode": {
    "name": "ipython",
    "version": 3
   },
   "file_extension": ".py",
   "mimetype": "text/x-python",
   "name": "python",
   "nbconvert_exporter": "python",
   "pygments_lexer": "ipython3",
   "version": "3.7.6"
  }
 },
 "nbformat": 4,
 "nbformat_minor": 4
}
